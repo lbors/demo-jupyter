{
 "cells": [
  {
   "cell_type": "markdown",
   "id": "cde26847-e378-48b6-a516-b9dfe486194a",
   "metadata": {
    "kernel": "SoS",
    "tags": []
   },
   "source": [
    "### Criando um ambiente para experimentação utilizando Jupyter\n",
    "\n",
    "Esse exemplo executa jupyterhub em um contêiner docker utilizando dockerspawner.\n",
    "\n",
    "Para esse exemplo é necessário:\n",
    "- Criar uma rede docker   \n",
    "- Ativar 'dummy authenticator' para teste"
   ]
  },
  {
   "cell_type": "code",
   "execution_count": null,
   "id": "906cc7be-fa61-4260-801e-4719aa18dfbf",
   "metadata": {
    "kernel": "Bash",
    "tags": []
   },
   "outputs": [],
   "source": [
    "docker network create jupyterhub\n",
    "docker build -t hub -f jupyterhub-dockerspawner/Dockerfile ."
   ]
  },
  {
   "cell_type": "markdown",
   "id": "0057170f-2f40-40c1-b745-c49c5be959fd",
   "metadata": {
    "kernel": "Bash"
   },
   "source": [
    "Em seguida, será necessário criar a imagem que será utilizada pelo servidor de usuário."
   ]
  },
  {
   "cell_type": "code",
   "execution_count": null,
   "id": "a68a46b2-13e2-4037-a62c-b0ee0a10ca09",
   "metadata": {
    "kernel": "Bash"
   },
   "outputs": [],
   "source": [
    "docker build -t demo/notebook-server:latest -f jupyterhub-dockerspawner/Dockerfile ."
   ]
  },
  {
   "cell_type": "markdown",
   "id": "bf2a17bb-1404-4ce0-9779-06de03139f54",
   "metadata": {
    "kernel": "Bash"
   },
   "source": [
    "Por fim, inicie o hub."
   ]
  },
  {
   "cell_type": "code",
   "execution_count": null,
   "id": "d1c58443-35e6-42b5-bb54-e1a81b30b837",
   "metadata": {
    "kernel": "Bash"
   },
   "outputs": [],
   "source": [
    "docker run --rm -it -d -v /var/run/docker.sock:/var/run/docker.sock --net jupyterhub --name jupyterhub -p 8000:8000 hub"
   ]
  },
  {
   "cell_type": "markdown",
   "id": "a70c8bd4-49bc-47a7-a71e-4dc27cfa1e2c",
   "metadata": {
    "kernel": "Bash"
   },
   "source": [
    "Agora, devemos ter o jupyterhub sendo executado na porta 8000 do host docker."
   ]
  }
 ],
 "metadata": {
  "kernelspec": {
   "display_name": "SoS",
   "language": "sos",
   "name": "sos"
  },
  "language_info": {
   "codemirror_mode": "sos",
   "file_extension": ".sos",
   "mimetype": "text/x-sos",
   "name": "sos",
   "nbconvert_exporter": "sos_notebook.converter.SoS_Exporter",
   "pygments_lexer": "sos"
  },
  "sos": {
   "kernels": [
    [
     "Bash",
     "bash",
     "bash",
     "",
     ""
    ]
   ],
   "version": "0.22.9"
  },
  "toc-autonumbering": false
 },
 "nbformat": 4,
 "nbformat_minor": 5
}
