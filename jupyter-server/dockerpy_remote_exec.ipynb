{
 "cells": [
  {
   "cell_type": "markdown",
   "id": "3240a1fd-7506-44be-ad6b-57874701b984",
   "metadata": {
    "kernel": "SoS"
   },
   "source": [
    "## Executando comandos em uma máquina remota\n",
    "\n",
    "Conecte-se a máquina desejada e construa seu ambiente de experimentação."
   ]
  },
  {
   "cell_type": "code",
   "execution_count": null,
   "id": "7d561a01-a83a-4bb1-a8aa-55ab643edb75",
   "metadata": {
    "kernel": "SoS",
    "tags": []
   },
   "outputs": [],
   "source": [
    "import docker\n",
    "client = docker.DockerClient(base_url='tcp://10.126.1.128:2375')"
   ]
  },
  {
   "cell_type": "markdown",
   "id": "d358818a-d0d8-4030-86ee-2e3390294d96",
   "metadata": {
    "kernel": "SoS",
    "tags": []
   },
   "source": [
    "#### Experimento\n",
    "\n",
    "O ambiente construído utiliza a biblioteca DockerPy e conta com dois contêineres conectados através de uma rede seguindo as seguintes etapas:\n",
    "\n",
    "    1 - Criação da rede docker."
   ]
  },
  {
   "cell_type": "code",
   "execution_count": null,
   "id": "f3270d33-ea99-4740-90b0-d5d283c55fd6",
   "metadata": {
    "kernel": "SoS"
   },
   "outputs": [],
   "source": [
    "ipam_pool = docker.types.IPAMPool(\n",
    "                subnet='172.15.0.0/16', \n",
    "                gateway='172.15.0.254')\n",
    "ipam_config = docker.types.IPAMConfig(\n",
    "                pool_configs=[ipam_pool])\n",
    "\n",
    "net = client.networks.create(\"exp_remote\", driver='bridge', ipam=ipam_config)"
   ]
  },
  {
   "cell_type": "markdown",
   "id": "91969a5d-368c-4016-ae14-9bad9022dfed",
   "metadata": {
    "kernel": "SoS"
   },
   "source": [
    "    2 - Criaçao do conteiner host1"
   ]
  },
  {
   "cell_type": "code",
   "execution_count": null,
   "id": "54b8ff2f-77c6-4225-833a-d7a15db4cfb0",
   "metadata": {
    "kernel": "SoS"
   },
   "outputs": [],
   "source": [
    "c1 = client.containers.run('sdnm/simplehost:latest', name='c1', network=\"exp_remote\", detach=True, tty=True)"
   ]
  },
  {
   "cell_type": "markdown",
   "id": "75be89e3-8784-413f-a121-a3c33d216c55",
   "metadata": {
    "kernel": "SoS"
   },
   "source": [
    "    3 - Criaçao do conteiner host2"
   ]
  },
  {
   "cell_type": "code",
   "execution_count": null,
   "id": "6b911077-e386-4df4-819f-6a0d403ce91c",
   "metadata": {
    "kernel": "SoS"
   },
   "outputs": [],
   "source": [
    "c2 = client.containers.run('sdnm/simplehost:latest', name='c2', network=\"exp_remote\", detach=True, tty=True)"
   ]
  },
  {
   "cell_type": "markdown",
   "id": "9dcc0425-0cb8-4b06-8fe4-55c599ac09e9",
   "metadata": {
    "kernel": "SoS"
   },
   "source": [
    "Verificando conectividade entre os hosts"
   ]
  },
  {
   "cell_type": "code",
   "execution_count": null,
   "id": "58f9269a-5c90-4227-900f-b6f110998bd2",
   "metadata": {
    "kernel": "SoS"
   },
   "outputs": [],
   "source": [
    "c1.exec_run('ping -c 3 172.15.0.2')"
   ]
  },
  {
   "cell_type": "markdown",
   "id": "6dcc4049-bdd9-427e-a306-1de7fc87b339",
   "metadata": {
    "kernel": "SoS"
   },
   "source": [
    "Finalizando experimento e limpando o ambiente"
   ]
  },
  {
   "cell_type": "code",
   "execution_count": null,
   "id": "535d4ff3-ce61-490e-bfd8-7d40a4524725",
   "metadata": {
    "kernel": "SoS"
   },
   "outputs": [],
   "source": [
    "c1.stop()\n",
    "c2.stop()\n",
    "c1.remove()\n",
    "c2.remove()\n",
    "net.remove()"
   ]
  }
 ],
 "metadata": {
  "kernelspec": {
   "display_name": "SoS",
   "language": "sos",
   "name": "sos"
  },
  "language_info": {
   "codemirror_mode": "sos",
   "file_extension": ".sos",
   "mimetype": "text/x-sos",
   "name": "sos",
   "nbconvert_exporter": "sos_notebook.converter.SoS_Exporter",
   "pygments_lexer": "sos"
  },
  "sos": {
   "kernels": [
    [
     "SoS",
     "sos",
     "",
     "",
     "sos"
    ]
   ],
   "version": "0.22.9"
  },
  "toc-autonumbering": false,
  "toc-showcode": true,
  "toc-showmarkdowntxt": true,
  "toc-showtags": false
 },
 "nbformat": 4,
 "nbformat_minor": 5
}
